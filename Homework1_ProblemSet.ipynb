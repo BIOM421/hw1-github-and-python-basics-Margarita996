{
 "cells": [
  {
   "cell_type": "markdown",
   "id": "bbe3f931-7cb6-4d10-9e0b-0228c145a880",
   "metadata": {},
   "source": [
    "# Notebook for Homework 1 "
   ]
  },
  {
   "cell_type": "code",
   "execution_count": 67,
   "id": "68311919-5c07-4475-a3d3-ba70c850e06e",
   "metadata": {
    "tags": []
   },
   "outputs": [],
   "source": [
    "# Preliminary Codes -- DO NOT CHANGE ANYTHING IN THIS SECTION\n",
    "import random, pickle\n",
    "import numpy as np\n",
    "xData = [100*random.random() for i in range(20)]\n",
    "number = 5+random.randint(8,20)\n",
    "fruit = 'apples'\n",
    "day = 'Saturday'\n",
    "string_4 = 'An alacritous abalone accelerates along an alarming aquatic ascent.'\n",
    "string_5 = 'A                       large space was here.'\n",
    "string_6 = 'ATCGTGCATGCTGAGTGGCGAGCGGCGGCCGTACGCTGTTACTTAAAACGTAGCTGTAAAAAAC\\\n",
    "            GCTGCTGATGCTGTGCATGTGACTAGCTGCATGTGTGACTGACTGCTGACGTACTGTACGTACG\\\n",
    "            ATGGTTCGTGCGATGCGCTTGACGTGTCGTAGTGCATGCTGCTAGCTGATCGATGTGTCGAGTC'\n",
    "nDigits = 6\n",
    "nPower = 3\n",
    "List10 = ['apples','bananas','pears','pears','blueberries','apples','strawberries']\n",
    "Student_IDs = [1,2,3,4,5]\n",
    "Student_names = ['Jim','John','Jenna','Jamal','Jaden']\n",
    "List12 = [1,2,3,4,5,6,7,8]\n",
    "\n",
    "q1 = 'xxx'\n",
    "q2 = 'XXX'\n",
    "q3 = 'XXX'\n",
    "q4 = 123\n",
    "q5 = 'XXX'\n",
    "q6 = 123\n",
    "q7 = 'XXX'\n",
    "q8 = 1.23\n",
    "q8 = 'xxx'\n",
    "q9 = 'xxx'\n",
    "q10 = List10\n",
    "q11 = 'xxx'\n",
    "q12 = [1,2,3,4,5,6,7,8]\n",
    "\n",
    "fnDat = 'Hwk1Data.pkl'\n",
    "dataDict = {'xData':xData,'number':number,'fruit':fruit,'day':day,'string_4':string_4,\n",
    "    'string_5':string_5,'string_6':string_6,'nDigits':nDigits,'nPower':nPower,\n",
    "    'Student_IDs':Student_IDs,'Student_names':Student_names,'List10':List10,'List12':List12}\n",
    "with open(fnDat, 'wb') as file:\n",
    "    pickle.dump(dataDict, file)\n",
    "\n",
    "def saveResults():\n",
    "    fn = 'Hwk1Answers.pkl'\n",
    "    answerDict = {'q1':q1,'q2':q2,'q3':q3,'q4':q4,'q5':q5,'q6':q6,'q7':q7,'q8':q8,\n",
    "                 'q9':q9,'q10':q10,'q11':q11,'q12':q12}\n",
    "    with open(fn, 'wb') as file:\n",
    "        pickle.dump(answerDict, file)\n",
    "\n",
    "    #Read and print \n",
    "    with open(fn, 'rb') as file:\n",
    "        loaded_dict = pickle.load(file)\n",
    "    \n",
    "    print(\"Your answers so far are:\")\n",
    "    print(loaded_dict)"
   ]
  },
  {
   "cell_type": "markdown",
   "id": "ed37dd2e-0076-4b05-b594-4e28cda958bc",
   "metadata": {},
   "source": [
    "## Problem Set 1 - Basic Arithmetic and String Manipulation"
   ]
  },
  {
   "cell_type": "code",
   "execution_count": 68,
   "id": "eb36cae3-6344-428b-9d97-ebe35b743109",
   "metadata": {
    "tags": []
   },
   "outputs": [
    {
     "name": "stdout",
     "output_type": "stream",
     "text": [
      "Hello my name is Name\n",
      "Your answers so far are:\n",
      "{'q1': 'Hello my name is Name', 'q2': 'XXX', 'q3': 'XXX', 'q4': 123, 'q5': 'XXX', 'q6': 123, 'q7': 'XXX', 'q8': 'xxx', 'q9': 'xxx', 'q10': ['apples', 'bananas', 'pears', 'pears', 'blueberries', 'apples', 'strawberries'], 'q11': 'xxx', 'q12': [1, 2, 3, 4, 5, 6, 7, 8]}\n"
     ]
    }
   ],
   "source": [
    "# Q1 - Concatenate the following strings with a space inbetween them (do not change the name).\n",
    "string_1 = 'Hello my name is'\n",
    "name = 'Name'\n",
    "#q1 = string_1+' '+name\n",
    "q1 = ' '.join([string_1,name])\n",
    "print(q1)\n",
    "saveResults()"
   ]
  },
  {
   "cell_type": "code",
   "execution_count": 69,
   "id": "8f5fa2d5-598a-4244-a9ef-b0444bc67dc8",
   "metadata": {},
   "outputs": [
    {
     "name": "stdout",
     "output_type": "stream",
     "text": [
      "Your answers so far are:\n",
      "{'q1': 'Hello my name is Name', 'q2': 'I WOULD LIKE TO BE UPPERCASE', 'q3': 'XXX', 'q4': 123, 'q5': 'XXX', 'q6': 123, 'q7': 'XXX', 'q8': 'xxx', 'q9': 'xxx', 'q10': ['apples', 'bananas', 'pears', 'pears', 'blueberries', 'apples', 'strawberries'], 'q11': 'xxx', 'q12': [1, 2, 3, 4, 5, 6, 7, 8]}\n"
     ]
    }
   ],
   "source": [
    "# Q2 = Convert the following string to uppercase\n",
    "string_2 = 'i would like to be uppercase'\n",
    "q2 = string_2.upper()\n",
    "\n",
    "saveResults()"
   ]
  },
  {
   "cell_type": "code",
   "execution_count": 70,
   "id": "d2f6938c-1036-4622-94c4-d03ed23ae5dd",
   "metadata": {
    "tags": []
   },
   "outputs": [
    {
     "name": "stdout",
     "output_type": "stream",
     "text": [
      "15\n",
      "apples\n",
      "Saturday\n",
      "Your answers so far are:\n",
      "{'q1': 'Hello my name is Name', 'q2': 'I WOULD LIKE TO BE UPPERCASE', 'q3': 'I bought 15 apples on Saturday.', 'q4': 123, 'q5': 'XXX', 'q6': 123, 'q7': 'XXX', 'q8': 'xxx', 'q9': 'xxx', 'q10': ['apples', 'bananas', 'pears', 'pears', 'blueberries', 'apples', 'strawberries'], 'q11': 'xxx', 'q12': [1, 2, 3, 4, 5, 6, 7, 8]}\n"
     ]
    }
   ],
   "source": [
    "# Q3 - use string formatting to construct the following string: \n",
    "#. \"I bought [number] [fruit] on [day].\" where:\n",
    "#     [number] is replaced with the number value of the variable \"number\",\n",
    "#     [fruit] is replaced with the string value of the variable \"fruit\",\n",
    "#     [day] is replaced with the string value of the variable \"day\",\n",
    "print(number)\n",
    "print(fruit)\n",
    "print(day)\n",
    "q3 = f\"I bought {number} {fruit} on {day}.\"\n",
    "#q3 = \"I bought %s %s on %s.\"%(number,fruit,day)\n",
    "\n",
    "saveResults()"
   ]
  },
  {
   "cell_type": "code",
   "execution_count": 71,
   "id": "adc7baac-3d62-400e-8e5b-a66eb12e117e",
   "metadata": {
    "tags": []
   },
   "outputs": [
    {
     "name": "stdout",
     "output_type": "stream",
     "text": [
      "An alacritous abalone accelerates along an alarming aquatic ascent.\n",
      "Your answers so far are:\n",
      "{'q1': 'Hello my name is Name', 'q2': 'I WOULD LIKE TO BE UPPERCASE', 'q3': 'I bought 15 apples on Saturday.', 'q4': 13, 'q5': 'XXX', 'q6': 123, 'q7': 'XXX', 'q8': 'xxx', 'q9': 'xxx', 'q10': ['apples', 'bananas', 'pears', 'pears', 'blueberries', 'apples', 'strawberries'], 'q11': 'xxx', 'q12': [1, 2, 3, 4, 5, 6, 7, 8]}\n"
     ]
    }
   ],
   "source": [
    "# Q4 - count the number of a's in the string \"string_4\"\n",
    "print(string_4)\n",
    "q4 = string_4.count('a')\n",
    "\n",
    "saveResults()"
   ]
  },
  {
   "cell_type": "code",
   "execution_count": 72,
   "id": "87dfc22b-0d94-4cc6-ab7c-cd484c67c919",
   "metadata": {
    "tags": []
   },
   "outputs": [
    {
     "name": "stdout",
     "output_type": "stream",
     "text": [
      "A                       large space was here.\n",
      "Your answers so far are:\n",
      "{'q1': 'Hello my name is Name', 'q2': 'I WOULD LIKE TO BE UPPERCASE', 'q3': 'I bought 15 apples on Saturday.', 'q4': 13, 'q5': 'Alargespacewashere.', 'q6': 123, 'q7': 'XXX', 'q8': 'xxx', 'q9': 'xxx', 'q10': ['apples', 'bananas', 'pears', 'pears', 'blueberries', 'apples', 'strawberries'], 'q11': 'xxx', 'q12': [1, 2, 3, 4, 5, 6, 7, 8]}\n"
     ]
    }
   ],
   "source": [
    "# Q5 - Strip \"string_5\" to remove all spaces and return the result as 'q5'\n",
    "print(string_5)\n",
    "q5 = string_5.replace(' ','')\n",
    "\n",
    "saveResults()"
   ]
  },
  {
   "cell_type": "code",
   "execution_count": 73,
   "id": "57fe3ee3-f84f-4839-bed2-5ca82691a87c",
   "metadata": {
    "tags": []
   },
   "outputs": [
    {
     "name": "stdout",
     "output_type": "stream",
     "text": [
      "Your answers so far are:\n",
      "{'q1': 'Hello my name is Name', 'q2': 'I WOULD LIKE TO BE UPPERCASE', 'q3': 'I bought 15 apples on Saturday.', 'q4': 13, 'q5': 'Alargespacewashere.', 'q6': 216, 'q7': 'XXX', 'q8': 'xxx', 'q9': 'xxx', 'q10': ['apples', 'bananas', 'pears', 'pears', 'blueberries', 'apples', 'strawberries'], 'q11': 'xxx', 'q12': [1, 2, 3, 4, 5, 6, 7, 8]}\n"
     ]
    }
   ],
   "source": [
    "# Q6 - How long is the string \"string_6\"?\n",
    "q6 = len(string_6)\n",
    "\n",
    "saveResults()"
   ]
  },
  {
   "cell_type": "code",
   "execution_count": 74,
   "id": "5df84638-359e-4ce2-8e90-925c40614253",
   "metadata": {
    "tags": []
   },
   "outputs": [
    {
     "name": "stdout",
     "output_type": "stream",
     "text": [
      "3.141592653589793\n",
      "6\n",
      "3\n",
      "Your answers so far are:\n",
      "{'q1': 'Hello my name is Name', 'q2': 'I WOULD LIKE TO BE UPPERCASE', 'q3': 'I bought 15 apples on Saturday.', 'q4': 13, 'q5': 'Alargespacewashere.', 'q6': 216, 'q7': '3.101e+01', 'q8': 'xxx', 'q9': 'xxx', 'q10': ['apples', 'bananas', 'pears', 'pears', 'blueberries', 'apples', 'strawberries'], 'q11': 'xxx', 'q12': [1, 2, 3, 4, 5, 6, 7, 8]}\n"
     ]
    }
   ],
   "source": [
    "# Q7 - Write a STRING that contains the value of pi^[nPower]. \n",
    "# Use exponent form to the 3rd decimal point (e.g., 2.500e+00).\n",
    "pi = np.pi\n",
    "print(pi)\n",
    "print(nDigits)\n",
    "print(nPower)\n",
    "q7 = \"{:.3e}\".format(pi**nPower,nDigits)\n",
    "\n",
    "saveResults()"
   ]
  },
  {
   "cell_type": "code",
   "execution_count": 75,
   "id": "ce677e5a",
   "metadata": {},
   "outputs": [
    {
     "data": {
      "text/plain": [
       "dict_keys(['__name__', '__doc__', '__package__', '__loader__', '__spec__', '__path__', '__file__', '__cached__', '__builtins__', '_utils', '_globals', '_NoValue', '_CopyMode', 'exceptions', 'ComplexWarning', 'ModuleDeprecationWarning', 'VisibleDeprecationWarning', 'TooHardError', 'AxisError', 'version', '__version__', '__NUMPY_SETUP__', '_distributor_init', 'dtypes', 'compat', '_pytesttester', 'core', '__config__', 'show_config', '__all__', '__deprecated_attrs__', 'char', 'rec', 'memmap', 'newaxis', 'ndarray', 'flatiter', 'nditer', 'nested_iters', 'ufunc', 'arange', 'array', 'asarray', 'asanyarray', 'ascontiguousarray', 'asfortranarray', 'zeros', 'count_nonzero', 'empty', 'broadcast', 'dtype', 'fromstring', 'fromfile', 'frombuffer', 'from_dlpack', 'where', 'argwhere', 'copyto', 'concatenate', 'fastCopyAndTranspose', 'lexsort', 'set_numeric_ops', 'can_cast', 'promote_types', 'min_scalar_type', 'result_type', 'isfortran', 'empty_like', 'zeros_like', 'ones_like', 'correlate', 'convolve', 'inner', 'dot', 'outer', 'vdot', 'roll', 'rollaxis', 'moveaxis', 'cross', 'tensordot', 'little_endian', 'fromiter', 'array_equal', 'array_equiv', 'indices', 'fromfunction', 'isclose', 'isscalar', 'binary_repr', 'base_repr', 'ones', 'identity', 'allclose', 'compare_chararrays', 'putmask', 'flatnonzero', 'Inf', 'inf', 'infty', 'Infinity', 'nan', 'NaN', 'False_', 'True_', 'bitwise_not', 'CLIP', 'RAISE', 'WRAP', 'MAXDIMS', 'BUFSIZE', 'ALLOW_THREADS', 'full', 'full_like', 'matmul', 'shares_memory', 'may_share_memory', 'MAY_SHARE_BOUNDS', 'MAY_SHARE_EXACT', '_get_promotion_state', '_set_promotion_state', '_using_numpy2_behavior', 'all', 'alltrue', 'amax', 'amin', 'any', 'argmax', 'argmin', 'argpartition', 'argsort', 'around', 'choose', 'clip', 'compress', 'cumprod', 'cumproduct', 'cumsum', 'diagonal', 'mean', 'max', 'min', 'ndim', 'nonzero', 'partition', 'prod', 'product', 'ptp', 'put', 'ravel', 'repeat', 'reshape', 'resize', 'round', 'round_', 'searchsorted', 'shape', 'size', 'sometrue', 'sort', 'squeeze', 'std', 'sum', 'swapaxes', 'take', 'trace', 'transpose', 'var', '_UFUNC_API', 'ERR_CALL', 'ERR_DEFAULT', 'ERR_IGNORE', 'ERR_LOG', 'ERR_PRINT', 'ERR_RAISE', 'ERR_WARN', 'FLOATING_POINT_SUPPORT', 'FPE_DIVIDEBYZERO', 'FPE_INVALID', 'FPE_OVERFLOW', 'FPE_UNDERFLOW', 'NAN', 'NINF', 'NZERO', 'PINF', 'PZERO', 'SHIFT_DIVIDEBYZERO', 'SHIFT_INVALID', 'SHIFT_OVERFLOW', 'SHIFT_UNDERFLOW', 'UFUNC_BUFSIZE_DEFAULT', 'UFUNC_PYVALS_NAME', '_add_newdoc_ufunc', 'absolute', 'add', 'arccos', 'arccosh', 'arcsin', 'arcsinh', 'arctan', 'arctan2', 'arctanh', 'bitwise_and', 'bitwise_or', 'bitwise_xor', 'cbrt', 'ceil', 'conj', 'conjugate', 'copysign', 'cos', 'cosh', 'deg2rad', 'degrees', 'divide', 'divmod', 'e', 'equal', 'euler_gamma', 'exp', 'exp2', 'expm1', 'fabs', 'floor', 'floor_divide', 'float_power', 'fmax', 'fmin', 'fmod', 'frexp', 'frompyfunc', 'gcd', 'geterrobj', 'greater', 'greater_equal', 'heaviside', 'hypot', 'invert', 'isfinite', 'isinf', 'isnan', 'isnat', 'lcm', 'ldexp', 'left_shift', 'less', 'less_equal', 'log', 'log10', 'log1p', 'log2', 'logaddexp', 'logaddexp2', 'logical_and', 'logical_not', 'logical_or', 'logical_xor', 'maximum', 'minimum', 'mod', 'modf', 'multiply', 'negative', 'nextafter', 'not_equal', 'pi', 'positive', 'power', 'rad2deg', 'radians', 'reciprocal', 'remainder', 'right_shift', 'rint', 'seterrobj', 'sign', 'signbit', 'sin', 'sinh', 'spacing', 'sqrt', 'square', 'subtract', 'tan', 'tanh', 'true_divide', 'trunc', 'sctypeDict', 'sctypes', 'ScalarType', 'obj2sctype', 'cast', 'nbytes', 'sctype2char', 'maximum_sctype', 'issctype', 'typecodes', 'find_common_type', 'issubdtype', 'datetime_data', 'datetime_as_string', 'busday_offset', 'busday_count', 'is_busday', 'busdaycalendar', 'byte', 'ubyte', 'short', 'ushort', 'uint', 'intp', 'uintp', 'longlong', 'ulonglong', 'half', 'double', 'longdouble', 'cfloat', 'cdouble', 'clongdouble', 'void', 'generic', 'number', 'integer', 'inexact', 'signedinteger', 'unsignedinteger', 'floating', 'complexfloating', 'flexible', 'character', 'int64', 'uint64', 'float16', 'float32', 'float64', 'complex64', 'complex128', 'datetime64', 'timedelta64', 'int32', 'uint32', 'int16', 'uint16', 'int8', 'uint8', 'complex_', 'single', 'csingle', 'singlecomplex', 'float_', 'intc', 'uintc', 'int_', 'longfloat', 'clongfloat', 'longcomplex', 'bool_', 'bytes_', 'string_', 'str_', 'unicode_', 'object_', 'array2string', 'array_str', 'array_repr', 'set_string_function', 'set_printoptions', 'get_printoptions', 'printoptions', 'format_float_positional', 'format_float_scientific', 'require', 'seterr', 'geterr', 'setbufsize', 'getbufsize', 'seterrcall', 'geterrcall', 'errstate', '_no_nep50_warning', 'record', 'recarray', 'format_parser', 'chararray', 'logspace', 'linspace', 'geomspace', 'finfo', 'iinfo', 'atleast_1d', 'atleast_2d', 'atleast_3d', 'block', 'hstack', 'stack', 'vstack', 'einsum', 'einsum_path', '_typing', 'linalg', 'matrixlib', 'lib', 'emath', 'tracemalloc_domain', 'iscomplexobj', 'isrealobj', 'imag', 'iscomplex', 'isreal', 'nan_to_num', 'real', 'real_if_close', 'typename', 'asfarray', 'mintypecode', 'common_type', 'ravel_multi_index', 'unravel_index', 'mgrid', 'ogrid', 'r_', 'c_', 's_', 'index_exp', 'ix_', 'ndenumerate', 'ndindex', 'fill_diagonal', 'diag_indices', 'diag_indices_from', 'select', 'piecewise', 'trim_zeros', 'copy', 'iterable', 'percentile', 'diff', 'gradient', 'angle', 'unwrap', 'sort_complex', 'disp', 'flip', 'rot90', 'extract', 'place', 'vectorize', 'asarray_chkfinite', 'average', 'bincount', 'digitize', 'cov', 'corrcoef', 'msort', 'median', 'sinc', 'hamming', 'hanning', 'bartlett', 'blackman', 'kaiser', 'trapz', 'i0', 'add_newdoc', 'add_docstring', 'meshgrid', 'delete', 'insert', 'append', 'interp', 'add_newdoc_ufunc', 'quantile', 'column_stack', 'row_stack', 'dstack', 'array_split', 'split', 'hsplit', 'vsplit', 'dsplit', 'apply_over_axes', 'expand_dims', 'apply_along_axis', 'kron', 'tile', 'get_array_wrap', 'take_along_axis', 'put_along_axis', 'broadcast_to', 'broadcast_arrays', 'broadcast_shapes', 'diag', 'diagflat', 'eye', 'fliplr', 'flipud', 'tri', 'triu', 'tril', 'vander', 'histogram2d', 'mask_indices', 'tril_indices', 'tril_indices_from', 'triu_indices', 'triu_indices_from', 'fix', 'isneginf', 'isposinf', 'pad', 'poly', 'roots', 'polyint', 'polyder', 'polyadd', 'polysub', 'polymul', 'polydiv', 'polyval', 'poly1d', 'polyfit', 'RankWarning', 'issubclass_', 'issubsctype', 'deprecate', 'deprecate_with_doc', 'get_include', 'info', 'source', 'who', 'lookfor', 'byte_bounds', 'safe_eval', 'show_runtime', 'ediff1d', 'intersect1d', 'setxor1d', 'union1d', 'setdiff1d', 'unique', 'in1d', 'isin', 'savetxt', 'loadtxt', 'genfromtxt', 'recfromtxt', 'recfromcsv', 'load', 'save', 'savez', 'savez_compressed', 'packbits', 'unpackbits', 'fromregex', 'DataSource', 'nansum', 'nanmax', 'nanmin', 'nanargmax', 'nanargmin', 'nanmean', 'nanmedian', 'nanpercentile', 'nanvar', 'nanstd', 'nanprod', 'nancumsum', 'nancumprod', 'nanquantile', 'histogram', 'histogramdd', 'histogram_bin_edges', 'fft', 'polynomial', 'random', 'ctypeslib', 'ma', '_mat', 'matrix', 'bmat', 'mat', 'asmatrix', '_builtins', '_specific_msg', '_int_extended_msg', '__former_attrs__', '__future_scalars__', 'abs', '_financial_names', '__expired_functions__', 'oldnumeric', 'numarray', '__getattr__', '__dir__', 'test', '_pyinstaller_hooks_dir'])"
      ]
     },
     "execution_count": 75,
     "metadata": {},
     "output_type": "execute_result"
    }
   ],
   "source": [
    "np.__dict__.keys()"
   ]
  },
  {
   "cell_type": "markdown",
   "id": "d6565fd5-b535-4571-84e9-2ea7a0c0c6ed",
   "metadata": {
    "tags": []
   },
   "source": [
    "## Problem Set 2 - Iterables, Slicing, and Sets"
   ]
  },
  {
   "cell_type": "code",
   "execution_count": 76,
   "id": "478785c4-c27a-4e62-ab36-8695589b3291",
   "metadata": {
    "tags": []
   },
   "outputs": [
    {
     "name": "stdout",
     "output_type": "stream",
     "text": [
      "[85.41272680041013, 28.104428276214712, 42.850992493487595, 99.37692999149678, 54.570055991673605, 70.40536676576025, 21.59805631434559, 12.911438949656006, 41.004580312097815, 26.520009343465155, 53.10468201260248, 84.24316718044331, 62.56391050342073, 28.39089603393109, 83.8752863726027, 42.38072533778361, 16.636455008608387, 72.18325554518992, 35.36402879817152, 86.72067565035616]\n",
      "Your answers so far are:\n",
      "{'q1': 'Hello my name is Name', 'q2': 'I WOULD LIKE TO BE UPPERCASE', 'q3': 'I bought 15 apples on Saturday.', 'q4': 13, 'q5': 'Alargespacewashere.', 'q6': 216, 'q7': '3.101e+01', 'q8': 52.41088338408588, 'q9': 'xxx', 'q10': ['apples', 'bananas', 'pears', 'pears', 'blueberries', 'apples', 'strawberries'], 'q11': 'xxx', 'q12': [1, 2, 3, 4, 5, 6, 7, 8]}\n"
     ]
    }
   ],
   "source": [
    "# Q8 - Consider the numbers in the list \"xData\", and compute their average.\n",
    "print(xData)\n",
    "q8 = np.mean(xData)  # Change this to produce the average of the numbers in 'xData'\n",
    "\n",
    "saveResults()"
   ]
  },
  {
   "cell_type": "code",
   "execution_count": 77,
   "id": "52ccb85f-cbc6-46ab-ae0c-657d92d17cc1",
   "metadata": {
    "tags": []
   },
   "outputs": [
    {
     "name": "stdout",
     "output_type": "stream",
     "text": [
      "[85.41272680041013, 28.104428276214712, 42.850992493487595, 99.37692999149678, 54.570055991673605, 70.40536676576025, 21.59805631434559, 12.911438949656006, 41.004580312097815, 26.520009343465155, 53.10468201260248, 84.24316718044331, 62.56391050342073, 28.39089603393109, 83.8752863726027, 42.38072533778361, 16.636455008608387, 72.18325554518992, 35.36402879817152, 86.72067565035616]\n",
      "Your answers so far are:\n",
      "{'q1': 'Hello my name is Name', 'q2': 'I WOULD LIKE TO BE UPPERCASE', 'q3': 'I bought 15 apples on Saturday.', 'q4': 13, 'q5': 'Alargespacewashere.', 'q6': 216, 'q7': '3.101e+01', 'q8': 52.41088338408588, 'q9': 86.72067565035616, 'q10': ['apples', 'bananas', 'pears', 'pears', 'blueberries', 'apples', 'strawberries'], 'q11': 'xxx', 'q12': [1, 2, 3, 4, 5, 6, 7, 8]}\n"
     ]
    }
   ],
   "source": [
    "# Q9 - What's the last entry in the list \"xData\".  Get this by slicing the list.\n",
    "print(xData)\n",
    "q9 = xData[-1]\n",
    "#print(xData[-3:]) #last three\n",
    "#print(xData[:3]) #first three\n",
    "#print(xData[::2]) #every second\n",
    "saveResults()"
   ]
  },
  {
   "cell_type": "code",
   "execution_count": 78,
   "id": "1bac04df-6fb1-4ee9-ac15-9a21d5dbf087",
   "metadata": {},
   "outputs": [
    {
     "name": "stdout",
     "output_type": "stream",
     "text": [
      "['apples', 'bananas', 'pears', 'pears', 'blueberries', 'apples', 'strawberries']\n",
      "Your answers so far are:\n",
      "{'q1': 'Hello my name is Name', 'q2': 'I WOULD LIKE TO BE UPPERCASE', 'q3': 'I bought 15 apples on Saturday.', 'q4': 13, 'q5': 'Alargespacewashere.', 'q6': 216, 'q7': '3.101e+01', 'q8': 52.41088338408588, 'q9': 86.72067565035616, 'q10': ['pears', 'bananas', 'blueberries', 'apples', 'strawberries'], 'q11': 'xxx', 'q12': [1, 2, 3, 4, 5, 6, 7, 8]}\n"
     ]
    }
   ],
   "source": [
    "# Q10 - Convert between lists and sets to remove duplicate entries from the list \"List10\"\n",
    "print(List10)\n",
    "q10 = list(set(List10))\n",
    "#print(set(List10) ^ {'pears','papaya'}) #or\n",
    "#print(set(List10) | {'pears','papaya'}) #or\n",
    "#print(set(List10) & {'pears','papaya'}) #and\n",
    "#print(set(List10).intersection({'pears','papaya'})) #and\n",
    "#print(set(List10).difference({'pears','papaya'})) #reverse of intersection\n",
    "saveResults()"
   ]
  },
  {
   "cell_type": "code",
   "execution_count": 79,
   "id": "84efaca0-7f30-4a5f-b973-054970681a64",
   "metadata": {},
   "outputs": [
    {
     "name": "stdout",
     "output_type": "stream",
     "text": [
      "[1, 2, 3, 4, 5]\n",
      "['Jim', 'John', 'Jenna', 'Jamal', 'Jaden']\n",
      "Your answers so far are:\n",
      "{'q1': 'Hello my name is Name', 'q2': 'I WOULD LIKE TO BE UPPERCASE', 'q3': 'I bought 15 apples on Saturday.', 'q4': 13, 'q5': 'Alargespacewashere.', 'q6': 216, 'q7': '3.101e+01', 'q8': 52.41088338408588, 'q9': 86.72067565035616, 'q10': ['pears', 'bananas', 'blueberries', 'apples', 'strawberries'], 'q11': {1: 'Jim', 2: 'John', 3: 'Jenna', 4: 'Jamal', 5: 'Jaden'}, 'q12': [1, 2, 3, 4, 5, 6, 7, 8]}\n"
     ]
    }
   ],
   "source": [
    "# Q11 - Combine the lists 'Student_IDs' and 'Student_names' into a dictionary keyed by the IDs. \n",
    "# i.e. Create a dictionary with pairs of { ID : student name }\n",
    "print(Student_IDs)\n",
    "print(Student_names)\n",
    "q11 = dict(zip(Student_IDs,Student_names))\n",
    "#[print(x) for x in zip(Student_IDs,Student_names)]\n",
    "\n",
    "saveResults()"
   ]
  },
  {
   "cell_type": "code",
   "execution_count": 80,
   "id": "13f4c066-44df-4b82-a78d-4dd2ff590f03",
   "metadata": {
    "tags": []
   },
   "outputs": [
    {
     "name": "stdout",
     "output_type": "stream",
     "text": [
      "[1, 2, 3, 4, 5, 6, 7, 8]\n",
      "Your answers so far are:\n",
      "{'q1': 'Hello my name is Name', 'q2': 'I WOULD LIKE TO BE UPPERCASE', 'q3': 'I bought 15 apples on Saturday.', 'q4': 13, 'q5': 'Alargespacewashere.', 'q6': 216, 'q7': '3.101e+01', 'q8': 52.41088338408588, 'q9': 86.72067565035616, 'q10': ['pears', 'bananas', 'blueberries', 'apples', 'strawberries'], 'q11': {1: 'Jim', 2: 'John', 3: 'Jenna', 4: 'Jamal', 5: 'Jaden'}, 'q12': [1, 3, 5, 7]}\n"
     ]
    }
   ],
   "source": [
    "# Q12 - Slice to get every other entry in the list 'List12'\n",
    "print(List12)\n",
    "q12 = List12[::2]\n",
    "\n",
    "saveResults()"
   ]
  }
 ],
 "metadata": {
  "kernelspec": {
   "display_name": "Python 3",
   "language": "python",
   "name": "python3"
  },
  "language_info": {
   "codemirror_mode": {
    "name": "ipython",
    "version": 3
   },
   "file_extension": ".py",
   "mimetype": "text/x-python",
   "name": "python",
   "nbconvert_exporter": "python",
   "pygments_lexer": "ipython3",
   "version": "3.10.14"
  }
 },
 "nbformat": 4,
 "nbformat_minor": 5
}
